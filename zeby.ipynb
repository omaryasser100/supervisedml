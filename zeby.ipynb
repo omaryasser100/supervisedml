{
 "cells": [
  {
   "cell_type": "code",
   "execution_count": 5,
   "id": "3f6dcab3",
   "metadata": {},
   "outputs": [
    {
     "name": "stdout",
     "output_type": "stream",
     "text": [
      "['MSZoning', 'LotShape', 'Utilities', 'LandSlope', 'ExterQual', 'ExterCond', 'BsmtCond', 'BsmtExposure', 'BsmtFinType2', 'Electrical', 'Functional', 'GarageQual', 'GarageCond', 'PavedDrive', 'PoolQC', 'Fence']\n"
     ]
    }
   ],
   "source": [
    "import numpy as np \n",
    "import pandas as pd \n",
    "import plotly as plt\n",
    "\n",
    "df=pd.read_csv('train.csv')\n",
    "l1=df.columns\n",
    "l1 \n",
    "ordinal=df[['MSSubClass','MSZoning','LotShape','Utilities','LandSlope','OverallQual','OverallCond'\n",
    "           ,'YearBuilt','YearRemodAdd','ExterQual','ExterCond','BsmtQual','BsmtCond','BsmtExposure','BsmtFinType1','BsmtFinType2',\n",
    "           'HeatingQC','Electrical','KitchenQual','Functional','FireplaceQu','GarageYrBlt','GarageFinish','GarageQual','GarageCond',\n",
    "           'PavedDrive','PoolQC','Fence','MoSold','YrSold']] \n",
    "\n",
    "def get_low_information_columns(df, dominance_threshold=0.95):\n",
    "    \"\"\"\n",
    "    Finds columns where one category dominates (occurs in >= dominance_threshold proportion of rows).\n",
    "\n",
    "    Parameters:\n",
    "    - df: pandas DataFrame\n",
    "    - column_list: list of columns to check\n",
    "    - dominance_threshold: float (0 to 1), threshold for dominant category\n",
    "    \n",
    "    Returns:\n",
    "    - List of column names with dominant single-category values\n",
    "    \"\"\"\n",
    "    low_info_cols = []\n",
    "\n",
    "    for col in df.columns:\n",
    "        top_freq = df[col].value_counts(normalize=True, dropna=False).values[0]\n",
    "        if top_freq >= dominance_threshold:\n",
    "            low_info_cols.append(col)\n",
    "\n",
    "    return low_info_cols\n",
    "print(get_low_information_columns(ordinal,0.6))\n"
   ]
  },
  {
   "cell_type": "code",
   "execution_count": 11,
   "id": "d5fdff05",
   "metadata": {},
   "outputs": [
    {
     "name": "stdout",
     "output_type": "stream",
     "text": [
      "['PoolQC', 'Fence']\n"
     ]
    }
   ],
   "source": [
    "def get_columns_with_excessive_nans(df, threshold=0.5):\n",
    "    \"\"\"\n",
    "    Returns columns from column_list where the proportion of NaN values exceeds the given threshold.\n",
    "    \n",
    "    Parameters:\n",
    "    - df: pandas DataFrame\n",
    "    - column_list: list of column names to check\n",
    "    - threshold: float between 0 and 1 (e.g. 0.5 means drop if >50% NaNs)\n",
    "    \n",
    "    Returns:\n",
    "    - List of column names to consider dropping\n",
    "    \"\"\"\n",
    "    total_rows = len(df)\n",
    "    drop_candidates = []\n",
    "\n",
    "    for col in df.columns:\n",
    "        nan_ratio = df[col].isna().sum() / total_rows\n",
    "        if nan_ratio > threshold:\n",
    "            drop_candidates.append(col)\n",
    "    \n",
    "    return drop_candidates\n",
    "print(get_columns_with_excessive_nans(ordinal,0.5))\n"
   ]
  }
 ],
 "metadata": {
  "kernelspec": {
   "display_name": "Python 3",
   "language": "python",
   "name": "python3"
  },
  "language_info": {
   "codemirror_mode": {
    "name": "ipython",
    "version": 3
   },
   "file_extension": ".py",
   "mimetype": "text/x-python",
   "name": "python",
   "nbconvert_exporter": "python",
   "pygments_lexer": "ipython3",
   "version": "3.12.1"
  }
 },
 "nbformat": 4,
 "nbformat_minor": 5
}
